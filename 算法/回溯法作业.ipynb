{
 "cells": [
  {
   "cell_type": "markdown",
   "metadata": {},
   "source": [
    "# 2.工作分配问题\n",
    "剪枝条件：如果此子节点在之前路径中出现，则此子节点及其子树均舍弃"
   ]
  },
  {
   "cell_type": "code",
   "execution_count": 5,
   "metadata": {},
   "outputs": [
    {
     "name": "stdout",
     "output_type": "stream",
     "text": [
      "3 [0, 2, 1]\n"
     ]
    }
   ],
   "source": [
    "import copy\n",
    "def B(nowList,j):\n",
    "    if j not in nowList:\n",
    "        return True\n",
    "    else:\n",
    "        return False\n",
    "def arrangeWork(c,i,nowList,nowSum): \n",
    "    global minList\n",
    "    global minSum\n",
    "    \n",
    "    if(len(c)<=i):\n",
    "        if(minSum>nowSum):\n",
    "            minSum=nowSum\n",
    "            minList=copy.deepcopy(nowList)\n",
    "#         print(nowList,nowSum,minList,minSum)\n",
    "        return minList,minSum\n",
    "    else:\n",
    "        j=0\n",
    "        while(j<len(c[0])):            \n",
    "            if(i==0):\n",
    "                nowSum=0\n",
    "                nowList=[]\n",
    "#             print(i,j,nowList,nowSum,minList,minSum,B(nowList,j))\n",
    "            if(B(nowList,j)):                \n",
    "                nowSum+=c[i][j]\n",
    "                nowList.append(j)\n",
    "                arrangeWork(c,i+1,nowList,nowSum)\n",
    "                nowList.pop(-1)\n",
    "                nowSum-=c[i][j]       \n",
    "            j+=1\n",
    "    \n",
    "        \n",
    "minList=[-1]*3\n",
    "minSum=100000\n",
    "nowList=[-1]*3\n",
    "nowSum=0\n",
    "c=[[1,2,3],[3,2,1],[2,1,3]]\n",
    "arrangeWork(c,0,nowList,nowSum)\n",
    "print(minSum,minList)"
   ]
  },
  {
   "cell_type": "markdown",
   "metadata": {},
   "source": [
    "# 3.最佳调度\n",
    "剪枝条件：当前路径的总用时大于最小用时（不必走到终点，只要其中途大于最小用时，其最终结果也会大于最小用时）"
   ]
  },
  {
   "cell_type": "code",
   "execution_count": 1,
   "metadata": {},
   "outputs": [
    {
     "name": "stdout",
     "output_type": "stream",
     "text": [
      "0 0 [1, 0, 0] [0] 10000 [-1, -1, -1, -1]\n",
      "1 0 [3, 0, 0] [0, 0] 10000 [-1, -1, -1, -1]\n",
      "2 0 [9, 0, 0] [0, 0, 0] 10000 [-1, -1, -1, -1]\n",
      "3 0 [12, 0, 0] [0, 0, 0, 0] 10000 [-1, -1, -1, -1]\n",
      "[12, 0, 0] [0, 0, 0, 0] 12 [0, 0, 0, 0]\n",
      "3 1 [9, 3, 0] [0, 0, 0, 1] 12 [0, 0, 0, 0]\n",
      "[9, 3, 0] [0, 0, 0, 1] 9 [0, 0, 0, 1]\n",
      "3 2 [9, 0, 3] [0, 0, 0, 2] 9 [0, 0, 0, 1]\n",
      "2 1 [3, 6, 0] [0, 0, 1] 9 [0, 0, 0, 1]\n",
      "3 0 [6, 6, 0] [0, 0, 1, 0] 9 [0, 0, 0, 1]\n",
      "[6, 6, 0] [0, 0, 1, 0] 6 [0, 0, 1, 0]\n",
      "3 1 [3, 9, 0] [0, 0, 1, 1] 6 [0, 0, 1, 0]\n",
      "3 2 [3, 6, 3] [0, 0, 1, 2] 6 [0, 0, 1, 0]\n",
      "2 2 [3, 0, 6] [0, 0, 2] 6 [0, 0, 1, 0]\n",
      "1 1 [1, 2, 0] [0, 1] 6 [0, 0, 1, 0]\n",
      "2 0 [7, 2, 0] [0, 1, 0] 6 [0, 0, 1, 0]\n",
      "2 1 [1, 8, 0] [0, 1, 1] 6 [0, 0, 1, 0]\n",
      "2 2 [1, 2, 6] [0, 1, 2] 6 [0, 0, 1, 0]\n",
      "1 2 [1, 0, 2] [0, 2] 6 [0, 0, 1, 0]\n",
      "2 0 [7, 0, 2] [0, 2, 0] 6 [0, 0, 1, 0]\n",
      "2 1 [1, 6, 2] [0, 2, 1] 6 [0, 0, 1, 0]\n",
      "2 2 [1, 0, 8] [0, 2, 2] 6 [0, 0, 1, 0]\n",
      "0 1 [0, 1, 0] [1] 6 [0, 0, 1, 0]\n",
      "1 0 [2, 1, 0] [1, 0] 6 [0, 0, 1, 0]\n",
      "2 0 [8, 1, 0] [1, 0, 0] 6 [0, 0, 1, 0]\n",
      "2 1 [2, 7, 0] [1, 0, 1] 6 [0, 0, 1, 0]\n",
      "2 2 [2, 1, 6] [1, 0, 2] 6 [0, 0, 1, 0]\n",
      "1 1 [0, 3, 0] [1, 1] 6 [0, 0, 1, 0]\n",
      "2 0 [6, 3, 0] [1, 1, 0] 6 [0, 0, 1, 0]\n",
      "2 1 [0, 9, 0] [1, 1, 1] 6 [0, 0, 1, 0]\n",
      "2 2 [0, 3, 6] [1, 1, 2] 6 [0, 0, 1, 0]\n",
      "1 2 [0, 1, 2] [1, 2] 6 [0, 0, 1, 0]\n",
      "2 0 [6, 1, 2] [1, 2, 0] 6 [0, 0, 1, 0]\n",
      "2 1 [0, 7, 2] [1, 2, 1] 6 [0, 0, 1, 0]\n",
      "2 2 [0, 1, 8] [1, 2, 2] 6 [0, 0, 1, 0]\n",
      "0 2 [0, 0, 1] [2] 6 [0, 0, 1, 0]\n",
      "1 0 [2, 0, 1] [2, 0] 6 [0, 0, 1, 0]\n",
      "2 0 [8, 0, 1] [2, 0, 0] 6 [0, 0, 1, 0]\n",
      "2 1 [2, 6, 1] [2, 0, 1] 6 [0, 0, 1, 0]\n",
      "2 2 [2, 0, 7] [2, 0, 2] 6 [0, 0, 1, 0]\n",
      "1 1 [0, 2, 1] [2, 1] 6 [0, 0, 1, 0]\n",
      "2 0 [6, 2, 1] [2, 1, 0] 6 [0, 0, 1, 0]\n",
      "2 1 [0, 8, 1] [2, 1, 1] 6 [0, 0, 1, 0]\n",
      "2 2 [0, 2, 7] [2, 1, 2] 6 [0, 0, 1, 0]\n",
      "1 2 [0, 0, 3] [2, 2] 6 [0, 0, 1, 0]\n",
      "2 0 [6, 0, 3] [2, 2, 0] 6 [0, 0, 1, 0]\n",
      "2 1 [0, 6, 3] [2, 2, 1] 6 [0, 0, 1, 0]\n",
      "2 2 [0, 0, 9] [2, 2, 2] 6 [0, 0, 1, 0]\n",
      "6 [0, 0, 1, 0]\n"
     ]
    }
   ],
   "source": [
    "import copy\n",
    "def arrangeJob(t,i,k,nowTime,nowList):\n",
    "    global minTime,minList\n",
    "    \n",
    "    if(i>=len(minList)):\n",
    "        if(minTime>max(nowTime)):\n",
    "            minTime=max(nowTime)\n",
    "            minList=copy.deepcopy(nowList)\n",
    "            print(nowTime,nowList,minTime,minList)\n",
    "        return minList,minTime\n",
    "    for j in range(k):\n",
    "        nowTime[j]+=t[i]\n",
    "        nowList.append(j)\n",
    "        print(i,j,nowTime,nowList,minTime,minList)\n",
    "        if(max(nowTime)<minTime):\n",
    "            arrangeJob(t,i+1,k,nowTime,nowList)\n",
    "        nowTime[j]-=t[i]\n",
    "        nowList.pop(-1)\n",
    "            \n",
    "\n",
    "n=4\n",
    "k=3\n",
    "#4个任务，三个机器\n",
    "t=[1,2,6,3]\n",
    "minTime=10000\n",
    "minList=[-1]*4\n",
    "nowTime=[0,0,0]\n",
    "nowList=[]\n",
    "arrangeJob(t,0,k,nowTime,nowList)\n",
    "print(minTime,minList)"
   ]
  },
  {
   "cell_type": "code",
   "execution_count": null,
   "metadata": {},
   "outputs": [],
   "source": []
  }
 ],
 "metadata": {
  "kernelspec": {
   "display_name": "Python 3",
   "language": "python",
   "name": "python3"
  },
  "language_info": {
   "codemirror_mode": {
    "name": "ipython",
    "version": 3
   },
   "file_extension": ".py",
   "mimetype": "text/x-python",
   "name": "python",
   "nbconvert_exporter": "python",
   "pygments_lexer": "ipython3",
   "version": "3.6.6"
  }
 },
 "nbformat": 4,
 "nbformat_minor": 2
}
