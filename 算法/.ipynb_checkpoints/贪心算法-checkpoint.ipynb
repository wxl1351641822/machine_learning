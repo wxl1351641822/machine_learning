{
 "cells": [
  {
   "cell_type": "code",
   "execution_count": null,
   "metadata": {},
   "outputs": [],
   "source": []
  },
  {
   "cell_type": "markdown",
   "metadata": {},
   "source": [
    "## 1.背包问题"
   ]
  },
  {
   "cell_type": "code",
   "execution_count": 5,
   "metadata": {},
   "outputs": [],
   "source": [
    "def GreedyKnapsack(p,w,M,x,n):\n",
    "    \n",
    "    rc=M\n",
    "    for i in range(0,n):\n",
    "        if w[i]<rc:\n",
    "            x[i]=1\n",
    "            rc=rc-w[i]\n",
    "            print(i,rc)\n",
    "        else:\n",
    "            break\n",
    "    if i<n:\n",
    "        x[i]=rc/w[i]\n",
    "\n",
    "print('贪心背包')\n",
    "n=3\n",
    "M=20\n",
    "p=[25,24,15]#yi已经按价值排序\n",
    "w=[18,15,10]\n",
    "x=[0]*n\n",
    "GreedyKnapsack(p,w,M,x,n)\n",
    "print(x)\n",
    "    \n",
    "\n"
   ]
  },
  {
   "cell_type": "markdown",
   "metadata": {},
   "source": [
    "## 2.调度问题"
   ]
  },
  {
   "cell_type": "code",
   "execution_count": 2,
   "metadata": {},
   "outputs": [],
   "source": [
    "def GreedyAction(s,f,n):\n",
    "    j=1\n",
    "    solution=[0]\n",
    "    for i in range(1,n):\n",
    "        if s[i]>=f[j]:\n",
    "            solution.append(i)\n",
    "            j=i\n",
    "    return solution\n",
    "\n"
   ]
  },
  {
   "cell_type": "markdown",
   "metadata": {},
   "source": [
    "## 3.带期限的调度问题"
   ]
  },
  {
   "cell_type": "code",
   "execution_count": 3,
   "metadata": {},
   "outputs": [],
   "source": [
    "def GreedyJob(d,p,n):\n",
    "    j=1\n",
    "    solution=[0]\n",
    "    for i in range(1,n):\n",
    "       \n",
    "        \n",
    "        if(d[i]>d[solution[len(solution)-1]] ):\n",
    "            \n",
    "            solution.append(i)\n",
    "        elif(d[i]==d[solution[len(solution)-1]]):\n",
    "            \n",
    "            if(len(solution)<d[solution[len(solution)-1]]):\n",
    "                solution.append(i)\n",
    "        else:\n",
    "#             for a in range(0,len(solution)):\n",
    "#                 if(d[solution[a]]>=d[i]):\n",
    "#                     break;\n",
    "           \n",
    "            flag=1\n",
    "            for b in range(len(solution)-1,-1,-1):\n",
    "#                 print(\"b=\",b,\",d[solution[b]]=\",d[solution[b]])\n",
    "                if(d[solution[b]]<=b+1):\n",
    "                    flag=0\n",
    "                if(d[solution[b]]<=d[i]):\n",
    "                    break;\n",
    "            if(flag==1):\n",
    "                if(d[solution[b]]>d[i]):\n",
    "                    solution.insert(b,i)\n",
    "                else:\n",
    "                    solution.insert(b+1,i)     \n",
    "    return solution\n",
    "\n",
    "    \n",
    "print('贪心调度2')\n",
    "n=7    \n",
    "p=[35,30,25,20,15,10,5]\n",
    "d=[4,2,4,3,4,8,3]\n",
    "print(GreedyJob(d,p,n))"
   ]
  },
  {
   "cell_type": "markdown",
   "metadata": {},
   "source": [
    "# 二、最优生成树"
   ]
  },
  {
   "cell_type": "markdown",
   "metadata": {},
   "source": [
    "## 2.1 prim"
   ]
  },
  {
   "cell_type": "code",
   "execution_count": 6,
   "metadata": {},
   "outputs": [],
   "source": [
    "def MinCost(COST):  \n",
    "    min=10000\n",
    "    mini,minj=-1,-1\n",
    "    for i in range(0,len(COST)):\n",
    "        for j in range(0,len(COST[i])):\n",
    "            if(COST[i][j]<min):\n",
    "                mini=i\n",
    "                minj=j\n",
    "                min=COST[i][j]\n",
    "    return mini,minj,min"
   ]
  },
  {
   "cell_type": "code",
   "execution_count": 55,
   "metadata": {},
   "outputs": [],
   "source": [
    "def PrimTree(COST,n,T):\n",
    "    k,s,mincost=MinCost(COST)\n",
    "    T[0][0],T[0][1]=k,s\n",
    "    near=[-1]*n\n",
    "    for i in range(0,n):        \n",
    "        if(COST[i][s]>COST[i][k]):            \n",
    "            near[i]=k\n",
    "        else:\n",
    "            if(COST[i][s]!=1000):\n",
    "                near[i]=s\n",
    "    near[k]=-2\n",
    "    near[s]=-2\n",
    "    for i in range(1,n-1):\n",
    "        min=1000\n",
    "        minj=-1\n",
    "#         print(near)\n",
    "        for j in range(0,n):\n",
    "            if(near[j]!=-2 and COST[j][near[j]]<min):\n",
    "                min,minj=COST[j][near[j]],j\n",
    "        T[i][0],T[i][1]=minj,near[minj]\n",
    "        mincost=mincost+COST[minj][near[minj]]\n",
    "        near[minj]=-2\n",
    "        for t in range(0,n):\n",
    "#             print(t,minj,COST[t][near[t]],COST[t][minj])\n",
    "            if(near[t]!=-2 and COST[t][near[t]]>COST[t][minj]):                \n",
    "                near[t]=minj\n",
    "                \n",
    "    if(mincost>=1000):\n",
    "        print('no spanning tree')\n",
    "            "
   ]
  },
  {
   "cell_type": "markdown",
   "metadata": {},
   "source": [
    "## 2.2 kruskal"
   ]
  },
  {
   "cell_type": "code",
   "execution_count": 7,
   "metadata": {},
   "outputs": [
    {
     "name": "stdout",
     "output_type": "stream",
     "text": [
      "\n",
      "\n",
      "The undirected graph is : [('A', 'B', 4), ('A', 'H', 8), ('B', 'C', 8), ('B', 'H', 11), ('C', 'D', 7), ('C', 'F', 4), ('C', 'I', 2), ('D', 'E', 9), ('D', 'F', 14), ('E', 'F', 10), ('F', 'G', 2), ('G', 'H', 1), ('G', 'I', 6), ('H', 'I', 7)]\n",
      "\n",
      "\n",
      "The minimum spanning tree by Kruskal is : \n",
      "('G', 'H', 1)\n",
      "('F', 'G', 2)\n",
      "('C', 'I', 2)\n",
      "('A', 'B', 4)\n",
      "('C', 'D', 7)\n",
      "('D', 'E', 9)\n",
      "[('G', 'H', 1), ('F', 'G', 2), ('C', 'I', 2), ('A', 'B', 4), ('C', 'D', 7), ('D', 'E', 9)]\n"
     ]
    }
   ],
   "source": [
    "class DisjointSet(dict):\n",
    "    '''不相交集'''\n",
    " \n",
    "    def __init__(self, dict):\n",
    "        pass\n",
    " \n",
    "    def add(self, item):\n",
    "        self[item] = item\n",
    " \n",
    "    def find(self, item):\n",
    "        if self[item] != item:\n",
    "            self[item] = self.find(self[item])\n",
    "        return self[item]\n",
    " \n",
    "    def unionset(self, item1, item2):\n",
    "        self[item2] = self[item1]\n",
    "\n",
    "\n",
    "def Kruskal_1(nodes, edges):\n",
    "    '''基于不相交集实现Kruskal算法'''\n",
    "    forest = DisjointSet(nodes)\n",
    "    MST = []\n",
    "    for item in nodes:\n",
    "        print(item)\n",
    "        forest.add(item)\n",
    "    edges = sorted(edges, key=lambda element: element[2])#用edges[i][2]来排序-权值\n",
    "    num_sides = len(nodes)-1  # 最小生成树的边数等于顶点数减一\n",
    "    for e in edges:#将权值最小边的点连上\n",
    "        node1, node2, _ = e\n",
    "        parent1 = forest.find(node1)\n",
    "        parent2 = forest.find(node2)\n",
    "        \n",
    "        if parent1 != parent2:\n",
    "            MST.append(e)\n",
    "            num_sides -= 1\n",
    "            if num_sides == 0:\n",
    "                return MST\n",
    "            else:\n",
    "                forest.unionset(parent1, parent2)\n",
    "    pass\n",
    "\n",
    "\n",
    "def Kruskal(nodes, edges):\n",
    "    ''' Kruskal 无向图生成最小生成树 '''\n",
    "    all_nodes = nodes  # set(nodes)\n",
    "    used_nodes = set()\n",
    "    MST = []\n",
    "    edges = sorted(edges, key=lambda element: element[2], reverse=True)\n",
    "    # 对所有的边按权重升序排列\n",
    "    \n",
    "    while used_nodes != all_nodes and edges:\n",
    "        element = edges.pop(-1)\n",
    "        if element[0] in used_nodes and element[1] in used_nodes:\n",
    "            continue\n",
    "        print(element)\n",
    "        MST.append(element)\n",
    "        used_nodes.update(element[:2])\n",
    "        #print(used_nodes)\n",
    "    return MST\n",
    " \n",
    "\n",
    "def main():\n",
    "    nodes = set(list('ABCDEFGHI'))\n",
    "    edges = [(\"A\", \"B\", 4), (\"A\", \"H\", 8),\n",
    "             (\"B\", \"C\", 8), (\"B\", \"H\", 11),\n",
    "             (\"C\", \"D\", 7), (\"C\", \"F\", 4),\n",
    "             (\"C\", \"I\", 2), (\"D\", \"E\", 9),\n",
    "             (\"D\", \"F\", 14), (\"E\", \"F\", 10),\n",
    "             (\"F\", \"G\", 2), (\"G\", \"H\", 1),\n",
    "             (\"G\", \"I\", 6), (\"H\", \"I\", 7)]\n",
    "    print(\"\\n\\nThe undirected graph is :\", edges)\n",
    "    print(\"\\n\\nThe minimum spanning tree by Kruskal is : \")\n",
    "    print(Kruskal(nodes, edges))\n",
    " \n",
    " \n",
    "if __name__ == '__main__':\n",
    "    main()"
   ]
  },
  {
   "cell_type": "code",
   "execution_count": 61,
   "metadata": {},
   "outputs": [
    {
     "name": "stdout",
     "output_type": "stream",
     "text": [
      "prim\n",
      "[[0, 1, -1, -1, -1, -1], [5, 1, -1, -1, -1, -1], [2, 5, -1, -1, -1, -1], [3, 5, -1, -1, -1, -1], [4, 2, -1, -1, -1, -1], [-1, -1, -1, -1, -1, -1], [-1, -1, -1, -1, -1, -1]]\n"
     ]
    }
   ],
   "source": [
    "\n",
    "if __name__=='__main__':\n",
    "#    \n",
    "    \n",
    "    print('prim')\n",
    "    T=[[-1]*6,[-1]*6,[-1]*6,[-1]*6,[-1]*6,[-1]*6,[-1]*6]\n",
    "    COST=[[1000,10,1000,30,45,1000],\n",
    "      [10,1000,50,1000,40,25],\n",
    "      [1000,50,1000,1000,35,15],\n",
    "      [30,1000,1000,1000,1000,20],\n",
    "      [45,40,35,1000,1000,55],\n",
    "      [1000,25,15,20,55,1000]]\n",
    "    PrimTree(COST,6,T)\n",
    "    print(T)"
   ]
  }
 ],
 "metadata": {
  "kernelspec": {
   "display_name": "Python 3",
   "language": "python",
   "name": "python3"
  },
  "language_info": {
   "codemirror_mode": {
    "name": "ipython",
    "version": 3
   },
   "file_extension": ".py",
   "mimetype": "text/x-python",
   "name": "python",
   "nbconvert_exporter": "python",
   "pygments_lexer": "ipython3",
   "version": "3.6.6"
  }
 },
 "nbformat": 4,
 "nbformat_minor": 2
}
