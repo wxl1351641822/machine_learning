{
 "cells": [
  {
   "cell_type": "markdown",
   "metadata": {},
   "source": [
    "# 005文本大数据分析\n",
    "文本数据是人类中重要的知识载体  \n",
    "文本分析是将非结构化的原始文本"
   ]
  },
  {
   "cell_type": "markdown",
   "metadata": {},
   "source": [
    "## LSI"
   ]
  },
  {
   "cell_type": "code",
   "execution_count": 1,
   "metadata": {},
   "outputs": [],
   "source": [
    "import numpy as np"
   ]
  },
  {
   "cell_type": "code",
   "execution_count": 19,
   "metadata": {},
   "outputs": [],
   "source": [
    "C=np.array([[1,0,1,0,0,0],[0,1,0,0,0,0],[1,1,0,0,0,0],[1,0,0,1,1,0],[0,0,0,1,0,1]])\n",
    "U,s,VT=np.linalg.svd(C)"
   ]
  },
  {
   "cell_type": "code",
   "execution_count": 20,
   "metadata": {},
   "outputs": [
    {
     "name": "stdout",
     "output_type": "stream",
     "text": [
      "(5, 5)\n",
      "(6, 6)\n",
      "(5,)\n"
     ]
    }
   ],
   "source": [
    "print(U.shape)\n",
    "print(VT.shape)\n",
    "print(s.shape)"
   ]
  },
  {
   "cell_type": "code",
   "execution_count": 26,
   "metadata": {},
   "outputs": [
    {
     "name": "stdout",
     "output_type": "stream",
     "text": [
      "[[ 0.44034748 -0.29617436]\n",
      " [ 0.12934635 -0.33145069]\n",
      " [ 0.47553026 -0.51111524]\n",
      " [ 0.70302032  0.35057241]\n",
      " [ 0.26267284  0.64674677]]\n",
      "[[ 0.74862305  0.2797116   0.2036288   0.44656311  0.32509596  0.12146715]\n",
      " [-0.28645399 -0.52845914 -0.18576119  0.6255207   0.21987976  0.40564094]]\n",
      "[2.16250096 1.59438237 1.27529025]\n"
     ]
    }
   ],
   "source": [
    "k=2\n",
    "print(U[:,:k])\n",
    "print(VT[:k,:])\n",
    "print(s[:3])"
   ]
  },
  {
   "cell_type": "code",
   "execution_count": 27,
   "metadata": {},
   "outputs": [
    {
     "data": {
      "text/plain": [
       "array([[2.16250096, 0.        , 0.        ],\n",
       "       [0.        , 1.59438237, 0.        ],\n",
       "       [0.        , 0.        , 1.27529025]])"
      ]
     },
     "execution_count": 27,
     "metadata": {},
     "output_type": "execute_result"
    }
   ],
   "source": [
    "np.diag(s[:3])"
   ]
  },
  {
   "cell_type": "code",
   "execution_count": 28,
   "metadata": {},
   "outputs": [
    {
     "name": "stdout",
     "output_type": "stream",
     "text": [
      "[[ 0.95225185 -0.47221518]\n",
      " [ 0.2797116  -0.52845914]\n",
      " [ 1.02833465 -0.81491313]\n",
      " [ 1.52028211  0.55894647]\n",
      " [ 0.56803026  1.03116165]]\n"
     ]
    }
   ],
   "source": [
    "word=np.matmul(U[:,:k],np.diag(s[:k]))\n",
    "print(word)"
   ]
  },
  {
   "cell_type": "code",
   "execution_count": 30,
   "metadata": {},
   "outputs": [
    {
     "data": {
      "text/plain": [
       "array([[ 1.61889806,  0.60487661,  0.44034748,  0.96569316,  0.70302032,\n",
       "         0.26267284],\n",
       "       [-0.45671719, -0.84256593, -0.29617436,  0.99731918,  0.35057241,\n",
       "         0.64674677]])"
      ]
     },
     "execution_count": 30,
     "metadata": {},
     "output_type": "execute_result"
    }
   ],
   "source": [
    "np.matmul(np.diag(s[:k]),VT[:k,:])"
   ]
  },
  {
   "cell_type": "markdown",
   "metadata": {},
   "source": [
    "U/V的行是个特征向量"
   ]
  },
  {
   "cell_type": "markdown",
   "metadata": {},
   "source": [
    "## 词袋子，词集，TF-IDF"
   ]
  },
  {
   "cell_type": "code",
   "execution_count": 31,
   "metadata": {},
   "outputs": [
    {
     "name": "stdout",
     "output_type": "stream",
     "text": [
      "{'计算机', '中', '学生', '工具', '方向', '数据', '我', '院', '实验室', '中国', '科学', '是', '的', '专业', '研究', '大学', '重要'}\n"
     ]
    }
   ],
   "source": [
    "s=[['我','是','中国','科学','院','大学','的','学生','专业','是','计算机','科学'],\n",
    "   ['我','是','数据','科学','实验室','的','学生','研究','方向','是','计算机','科学'],\n",
    "   ['计算机','是','科学','研究','中','的','重要','工具']]\n",
    "voc=set()\n",
    "for sen in s:\n",
    "    for word in sen:\n",
    "        voc.add(word)\n",
    "print(voc)"
   ]
  },
  {
   "cell_type": "code",
   "execution_count": 34,
   "metadata": {},
   "outputs": [
    {
     "name": "stdout",
     "output_type": "stream",
     "text": [
      "{'计算机': 0, '中': 1, '学生': 2, '工具': 3, '方向': 4, '数据': 5, '我': 6, '院': 7, '实验室': 8, '中国': 9, '科学': 10, '是': 11, '的': 12, '专业': 13, '研究': 14, '大学': 15, '重要': 16}\n"
     ]
    }
   ],
   "source": [
    "dic={}\n",
    "i=0\n",
    "voc=list(voc)\n",
    "for i,w in enumerate(voc):\n",
    "    dic[w]=i\n",
    "print(dic)\n",
    "    "
   ]
  },
  {
   "cell_type": "code",
   "execution_count": 36,
   "metadata": {},
   "outputs": [
    {
     "name": "stdout",
     "output_type": "stream",
     "text": [
      "[[1, 0, 1, 0, 0, 0, 1, 1, 0, 1, 1, 1, 1, 1, 0, 1, 0], [1, 0, 1, 0, 1, 1, 1, 0, 1, 0, 1, 1, 1, 0, 1, 0, 0], [1, 1, 0, 1, 0, 0, 0, 0, 0, 0, 1, 1, 1, 0, 1, 0, 1]]\n"
     ]
    }
   ],
   "source": [
    "###词集合\n",
    "s_set=[]\n",
    "for sen in s:\n",
    "    sen_set=[0]*len(dic)\n",
    "    for w in sen:\n",
    "        sen_set[dic[w]]=1\n",
    "    s_set.append(sen_set)\n",
    "print(s_set)"
   ]
  },
  {
   "cell_type": "code",
   "execution_count": 37,
   "metadata": {
    "scrolled": true
   },
   "outputs": [
    {
     "name": "stdout",
     "output_type": "stream",
     "text": [
      "[[1, 0, 1, 0, 0, 0, 1, 1, 0, 1, 2, 2, 1, 1, 0, 1, 0], [1, 0, 1, 0, 1, 1, 1, 0, 1, 0, 2, 2, 1, 0, 1, 0, 0], [1, 1, 0, 1, 0, 0, 0, 0, 0, 0, 1, 1, 1, 0, 1, 0, 1]]\n"
     ]
    }
   ],
   "source": [
    "####词袋子\n",
    "s_bag=[]\n",
    "for sen in s:\n",
    "    sen_bag=[0]*len(dic)\n",
    "    for w in sen:\n",
    "        sen_bag[dic[w]]+=1\n",
    "    s_bag.append(sen_bag)\n",
    "print(s_bag)"
   ]
  },
  {
   "cell_type": "code",
   "execution_count": 38,
   "metadata": {},
   "outputs": [
    {
     "name": "stdout",
     "output_type": "stream",
     "text": [
      "3\n"
     ]
    }
   ],
   "source": [
    "###TF-IDF\n",
    "doc_num=len(s)\n",
    "print(doc_num)\n",
    "for sen in s:\n",
    "    sen_total_word=len(sen)##这篇文章中的单词总数"
   ]
  },
  {
   "cell_type": "code",
   "execution_count": 42,
   "metadata": {},
   "outputs": [
    {
     "name": "stdout",
     "output_type": "stream",
     "text": [
      "[[1 0 1 0 0 0 1 1 0 1 2 2 1 1 0 1 0]\n",
      " [1 0 1 0 1 1 1 0 1 0 2 2 1 0 1 0 0]\n",
      " [1 1 0 1 0 0 0 0 0 0 1 1 1 0 1 0 1]]\n"
     ]
    }
   ],
   "source": [
    "import numpy as np\n",
    "word_bag=np.array(s_bag)\n",
    "print(word_bag)\n",
    "word_set=np.array(s_set)"
   ]
  },
  {
   "cell_type": "code",
   "execution_count": 44,
   "metadata": {},
   "outputs": [
    {
     "name": "stdout",
     "output_type": "stream",
     "text": [
      "[3 1 2 1 1 1 2 1 1 1 3 3 3 1 2 1 1]\n"
     ]
    }
   ],
   "source": [
    "doc_count=np.sum(word_set,axis=0)##单词在几个文档中出现过\n",
    "print(doc_count)"
   ]
  },
  {
   "cell_type": "code",
   "execution_count": 45,
   "metadata": {},
   "outputs": [
    {
     "name": "stdout",
     "output_type": "stream",
     "text": [
      "[0.         1.09861229 0.40546511 1.09861229 1.09861229 1.09861229\n",
      " 0.40546511 1.09861229 1.09861229 1.09861229 0.         0.\n",
      " 0.         1.09861229 0.40546511 1.09861229 1.09861229]\n"
     ]
    }
   ],
   "source": [
    "###逆文档频率 \n",
    "IDF=np.log(doc_num/doc_count)\n",
    "print(IDF)"
   ]
  },
  {
   "cell_type": "code",
   "execution_count": 48,
   "metadata": {},
   "outputs": [
    {
     "name": "stdout",
     "output_type": "stream",
     "text": [
      "[[12]\n",
      " [12]\n",
      " [ 8]]\n"
     ]
    }
   ],
   "source": [
    "###TF\n",
    "word_total_per_doc=np.sum(word_bag,axis=1).reshape(3,1)\n",
    "print(word_total_per_doc)"
   ]
  },
  {
   "cell_type": "code",
   "execution_count": 50,
   "metadata": {},
   "outputs": [
    {
     "name": "stdout",
     "output_type": "stream",
     "text": [
      "[[0.08333333 0.         0.08333333 0.         0.         0.\n",
      "  0.08333333 0.08333333 0.         0.08333333 0.16666667 0.16666667\n",
      "  0.08333333 0.08333333 0.         0.08333333 0.        ]\n",
      " [0.08333333 0.         0.08333333 0.         0.08333333 0.08333333\n",
      "  0.08333333 0.         0.08333333 0.         0.16666667 0.16666667\n",
      "  0.08333333 0.         0.08333333 0.         0.        ]\n",
      " [0.125      0.125      0.         0.125      0.         0.\n",
      "  0.         0.         0.         0.         0.125      0.125\n",
      "  0.125      0.         0.125      0.         0.125     ]]\n"
     ]
    }
   ],
   "source": [
    "tf=word_bag/word_total_per_doc\n",
    "print(tf)"
   ]
  },
  {
   "cell_type": "code",
   "execution_count": 54,
   "metadata": {},
   "outputs": [],
   "source": [
    "tf_idf=tf*IDF"
   ]
  },
  {
   "cell_type": "code",
   "execution_count": 55,
   "metadata": {},
   "outputs": [
    {
     "name": "stdout",
     "output_type": "stream",
     "text": [
      "[[0.         0.         0.03378876 0.         0.         0.\n",
      "  0.03378876 0.09155102 0.         0.09155102 0.         0.\n",
      "  0.         0.09155102 0.         0.09155102 0.        ]\n",
      " [0.         0.         0.03378876 0.         0.09155102 0.09155102\n",
      "  0.03378876 0.         0.09155102 0.         0.         0.\n",
      "  0.         0.         0.03378876 0.         0.        ]\n",
      " [0.         0.13732654 0.         0.13732654 0.         0.\n",
      "  0.         0.         0.         0.         0.         0.\n",
      "  0.         0.         0.05068314 0.         0.13732654]]\n"
     ]
    }
   ],
   "source": [
    "print(tf_idf)"
   ]
  },
  {
   "cell_type": "code",
   "execution_count": null,
   "metadata": {},
   "outputs": [],
   "source": []
  }
 ],
 "metadata": {
  "kernelspec": {
   "display_name": "Python 3",
   "language": "python",
   "name": "python3"
  },
  "language_info": {
   "codemirror_mode": {
    "name": "ipython",
    "version": 3
   },
   "file_extension": ".py",
   "mimetype": "text/x-python",
   "name": "python",
   "nbconvert_exporter": "python",
   "pygments_lexer": "ipython3",
   "version": "3.6.6"
  }
 },
 "nbformat": 4,
 "nbformat_minor": 2
}
