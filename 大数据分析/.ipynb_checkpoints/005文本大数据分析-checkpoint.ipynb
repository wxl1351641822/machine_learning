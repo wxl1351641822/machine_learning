{
 "cells": [
  {
   "cell_type": "markdown",
   "metadata": {},
   "source": [
    "# 005文本大数据分析\n",
    "文本数据是人类中重要的知识载体  \n",
    "文本分析是将非结构化的原始文本"
   ]
  },
  {
   "cell_type": "code",
   "execution_count": 1,
   "metadata": {},
   "outputs": [],
   "source": [
    "import numpy as np"
   ]
  },
  {
   "cell_type": "code",
   "execution_count": 19,
   "metadata": {},
   "outputs": [],
   "source": [
    "C=np.array([[1,0,1,0,0,0],[0,1,0,0,0,0],[1,1,0,0,0,0],[1,0,0,1,1,0],[0,0,0,1,0,1]])\n",
    "U,s,VT=np.linalg.svd(C)"
   ]
  },
  {
   "cell_type": "code",
   "execution_count": 20,
   "metadata": {},
   "outputs": [
    {
     "name": "stdout",
     "output_type": "stream",
     "text": [
      "(5, 5)\n",
      "(6, 6)\n",
      "(5,)\n"
     ]
    }
   ],
   "source": [
    "print(U.shape)\n",
    "print(VT.shape)\n",
    "print(s.shape)"
   ]
  },
  {
   "cell_type": "code",
   "execution_count": 26,
   "metadata": {},
   "outputs": [
    {
     "name": "stdout",
     "output_type": "stream",
     "text": [
      "[[ 0.44034748 -0.29617436]\n",
      " [ 0.12934635 -0.33145069]\n",
      " [ 0.47553026 -0.51111524]\n",
      " [ 0.70302032  0.35057241]\n",
      " [ 0.26267284  0.64674677]]\n",
      "[[ 0.74862305  0.2797116   0.2036288   0.44656311  0.32509596  0.12146715]\n",
      " [-0.28645399 -0.52845914 -0.18576119  0.6255207   0.21987976  0.40564094]]\n",
      "[2.16250096 1.59438237 1.27529025]\n"
     ]
    }
   ],
   "source": [
    "k=2\n",
    "print(U[:,:k])\n",
    "print(VT[:k,:])\n",
    "print(s[:3])"
   ]
  },
  {
   "cell_type": "code",
   "execution_count": 27,
   "metadata": {},
   "outputs": [
    {
     "data": {
      "text/plain": [
       "array([[2.16250096, 0.        , 0.        ],\n",
       "       [0.        , 1.59438237, 0.        ],\n",
       "       [0.        , 0.        , 1.27529025]])"
      ]
     },
     "execution_count": 27,
     "metadata": {},
     "output_type": "execute_result"
    }
   ],
   "source": [
    "np.diag(s[:3])"
   ]
  },
  {
   "cell_type": "code",
   "execution_count": 28,
   "metadata": {},
   "outputs": [
    {
     "name": "stdout",
     "output_type": "stream",
     "text": [
      "[[ 0.95225185 -0.47221518]\n",
      " [ 0.2797116  -0.52845914]\n",
      " [ 1.02833465 -0.81491313]\n",
      " [ 1.52028211  0.55894647]\n",
      " [ 0.56803026  1.03116165]]\n"
     ]
    }
   ],
   "source": [
    "word=np.matmul(U[:,:k],np.diag(s[:k]))\n",
    "print(word)"
   ]
  },
  {
   "cell_type": "code",
   "execution_count": 30,
   "metadata": {},
   "outputs": [
    {
     "data": {
      "text/plain": [
       "array([[ 1.61889806,  0.60487661,  0.44034748,  0.96569316,  0.70302032,\n",
       "         0.26267284],\n",
       "       [-0.45671719, -0.84256593, -0.29617436,  0.99731918,  0.35057241,\n",
       "         0.64674677]])"
      ]
     },
     "execution_count": 30,
     "metadata": {},
     "output_type": "execute_result"
    }
   ],
   "source": [
    "np.matmul(np.diag(s[:k]),VT[:k,:])"
   ]
  },
  {
   "cell_type": "markdown",
   "metadata": {},
   "source": [
    "U/V的行是个特征向量"
   ]
  }
 ],
 "metadata": {
  "kernelspec": {
   "display_name": "Python 3",
   "language": "python",
   "name": "python3"
  },
  "language_info": {
   "codemirror_mode": {
    "name": "ipython",
    "version": 3
   },
   "file_extension": ".py",
   "mimetype": "text/x-python",
   "name": "python",
   "nbconvert_exporter": "python",
   "pygments_lexer": "ipython3",
   "version": "3.6.6"
  }
 },
 "nbformat": 4,
 "nbformat_minor": 2
}
