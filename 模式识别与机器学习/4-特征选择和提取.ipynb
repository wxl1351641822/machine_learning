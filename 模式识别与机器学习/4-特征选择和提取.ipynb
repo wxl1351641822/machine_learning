{
 "cells": [
  {
   "cell_type": "markdown",
   "metadata": {},
   "source": [
    "| | 。。。。。。。。。。。。。。。方法。。。。。。。。。。。。。。。 | 适用于 |\n",
    "| --- | --- | --- |\n",
    "| 特征选择1 | $ G_k=\\frac{(m_{ik}-m_{jk})^2}{\\sigma_{ik}^2+\\sigma_{jk}^2},G_k大则优先 $ | 正态或近似正态分布（有重叠需要再加其他特征） |\n",
    "| 特征选择2 | $ J_1=det(S_w^{-1}S_b)=\\Pi_i \\lambda_i=J_2=tr(S_w^{-1}S_b),\\lambda_i特征值 $ | 适用于任何分布 |\n",
    "| 特征提取（K-L,PCA) | $ a=\\Phi[:,:m]^T x',\\Phi是x'的自相关矩阵的特征向量，x'=x-m $ | 适用于任何分布，当E(x)!=0的时候，只能达到次最优，最好先标准化 |\n",
    "\n",
    "* 特征选择和提取\n",
    "    * 组合计算特征，数据多维度加权-->\n",
    "    * 不作处理：维度诅咒\n",
    "    * 要求:确保精度下，降维\n",
    "    * 如何选择？\n",
    "        1. 去除不易判别的特征\n",
    "        2. 去除相关性强的特征（重复）\n",
    "    * 分类\n",
    "        * 特征选择：选择（x还是x，但选了几个出来\n",
    "            * 选择依据：模式类别可分性\n",
    "        * 特征提取：x->y=f(x)变换到y(二次特征）\n",
    "\n",
    "* 选择依据：模式类别可分性的测度\n",
    "    * 点与点的距离D(a,b)=||a-b||\n",
    "    * 点与点集的距离 $ =\\frac{1}{K}\\Sigma_{i=1}^k D^2(x,a^{(i)}),a^{(i)} \\in A点集 $\n",
    "    * 类内距离：点集内部距离：类内各点的均方距离\n",
    "        * $ D^2=\\frac{1}{K}\\Sigma_{i=1}^k(\\Sigma_{j=1,j \\neq i}^k D^2(a^{(i)},a^{(j)}))=2\\Sigma_{k=1}^n \\sigma_k^2 $\n",
    "            * 方差$ \\sigma_k^2=\\frac{1}{K-1}\\Sigma_{i=1}^k(a_k^{(i)}-a_k)^2 $\n",
    "                * $ a_k=\\frac{1}{K}\\Sigma_{i=1}^K a_k^{(i)} $\n",
    "                * 右下：k个分量--k维度\n",
    "                * 右上：K个a，第几个样本\n",
    "    * 类内散布矩阵\n",
    "        * $ S=\\Sigma_{i=1}^K(a^{(i)}-m)(a^{(i)}-m)^T $,m-均值\n",
    "        * 多类模式下集散布矩阵(类内）\n",
    "            *  $ S_w=\\Sigma_{i=1}^cp(\\omega_i)E\\{(x-m_i)(x-m_i)^T|\\omega_i\\}=\\Sigma_{i=1}^cp(\\omega_i)C_i $---x是i的x\n",
    "            * $ 协方差矩阵：C_i=E\\{(x-m_i)(x-m_i)^T|\\omega_i\\} $\n",
    "    * 类间距离：$ S_{b_2}=D^2=||m_1-m_2|| =(m_1-m_2)(m_1-m_2)^T $\n",
    "        * 三个类别以上：$ S_b=\\Sigma_{i=1}^cp(\\omega_i)(m_i-m_0)(m_i-m_0)^T $\n",
    "            * m0:总体均值$ m_0=E(x)=\\Sigma_{i=1}^cp(\\omega_i)m_i $\n",
    "    \n",
    "    * 多类模式下总体分布的散布矩阵：\n",
    "        * $ S_t=E\\{(x-m_0)(x-m_0)^T\\} $\n",
    "        * $ S_t=S_w+S_b $"
   ]
  },
  {
   "cell_type": "markdown",
   "metadata": {},
   "source": [
    "## 特征选择\n",
    "* n个特征中选择m个特征：$ C_n^m $选法\n",
    "* 目标：类内距离最小，类间距离最大\n",
    "* 如何选择\n",
    "    1. 穷举（太多了\n",
    "    2. 由可分性准则判定其优劣\n",
    "        * 独立特征的选择准则\n",
    "            * 独立地进行分析即可\n",
    "            * 准则函数（优先级）：$ G_k=\\frac{(m_{ik}-m_{jk})^2}{\\sigma_{ik}^2+\\sigma_{jk}^2},k=1,2,...,n $\n",
    "            * Gk大的优先\n",
    "            * 适用范围\n",
    "                1. 正态分布，完全可分，ok\n",
    "                2. 正态分布，大多重叠，仅依赖xk不行，需要添加其他特征\n",
    "                3. 非或不近似正态分布不行：wi有两个峰，不可用\n",
    "        * 一般特征的选择准则\n",
    "            * 直观上，Sw类间散布矩阵大，Sb类内散布矩阵小好\n",
    "                * 行列式形式$ J_1=det(S_w^{-1}S_b)=\\Pi_i \\lambda_i $\n",
    "                * 迹形式$ J_2=tr(S_w^{-1}S_b)=\\Pi_i \\lambda_i,\\lambda_i特征值 $\n",
    "                * 选择使$ J_1或J_2 $ 最大的子集"
   ]
  },
  {
   "cell_type": "code",
   "execution_count": 27,
   "metadata": {},
   "outputs": [
    {
     "name": "stdout",
     "output_type": "stream",
     "text": [
      "[[4.]\n",
      " [1.]]\n",
      "[[ 0.66666667 -0.11111111]\n",
      " [-0.11111111  0.66666667]]\n",
      "[[ 0.11111111]\n",
      " [-0.11111111]]\n",
      "[[62. 13.]\n",
      " [13. 62.]]\n"
     ]
    }
   ],
   "source": [
    "import numpy as np\n",
    "x1=np.array([[1,2,1],[0,0,1]])\n",
    "x2=np.array([[-1,0,-1],[0,1,1]])\n",
    "x3=np.array([[-1,0,0],[-1,-1,-2]])\n",
    "m1=np.mean(x1,axis=1).reshape(2,1)\n",
    "m2=np.mean(x2,axis=1).reshape(2,1)\n",
    "m3=np.mean(x3,axis=1).reshape(2,1)\n",
    "print(3*m1)\n",
    "\n",
    "Sw=(np.matmul((x1-m1),(x1-m1).T)+np.matmul((x2-m2),(x2-m2).T)+np.matmul((x3-m3),(x3-m3).T))/3\n",
    "print(Sw)\n",
    "m0=(m1+m2+m3)/3\n",
    "print(m0)\n",
    "\n",
    "Sb=(np.matmul((m1-m0),(m1-m0).T)+np.matmul((m2-m0),(m2-m0).T)+np.matmul((m3-m0),(m3-m0).T))/3\n",
    "print(81*Sb)\n"
   ]
  },
  {
   "cell_type": "markdown",
   "metadata": {},
   "source": [
    "## 特征提取--PCA--离散K-L变换\n",
    "* 适用于任何概率密度函数\n",
    "* x--正交变换(线性组合)-->a,再从a中选择前几个\n",
    "* 有限的K-L:\n",
    "    * $ x_i=\\Phi a_i ,正交变换矩阵\\Phi第t行j列\\phi_j(t)，x->a  $\n",
    "    * 展开：$  x_i(t)=\\Sigma_{i=1}^{\\infty}\\phi_j(t) a_j,T_1<a_j<T_2;\\phi_j连续正交，a_j展开的随即系数 $\n",
    "    * 总体自相关矩阵$ R=E\\{xx^T\\} $\n",
    "        * $ R=E\\{xx^T\\}=E\\{\\Phi aa^T\\Phi^T\\}=\\Phi E\\{ aa^T\\}\\Phi^T $\n",
    "        * 令$  E\\{ aa^T\\}=deg({\\lambda_i})=D_\\lambda（a_ia_i=\\lambda_i,其他0 $ ——特征值的对角矩阵\n",
    "        * $ R=\\Phi D_\\lambda \\Phi^T ，\\Phi--特征矩阵 $\n",
    "        * $ \\Phi R=\\Phi D_\\lambda $\n",
    "        * $ R \\phi_j=\\lambda_j \\phi_j $\n",
    "    * ==>$ a=\\Phi^T x $\n",
    "    * ==>$ a=\\Phi[:,0:m]^T x $ ,取前m个特征向量（对应特征值从大到小排序）\n",
    "        * 证明，可这么做：\n",
    "            * $ x'=\\Sigma_{j=1}^ma_j\\phi_j+\\Sigma_{j=1+m}^nb\\phi_j,b是常数，得到x的估计值x' $\n",
    "            * $ \\Delta x=x-x'=\\Sigma_{j=1+m}^n(a_j-b)\\phi_j $\n",
    "            * $ \\epsilon^2=E\\{||\\Delta x||^2\\}= \\Sigma_{j=1+m}^nE((a_j-b)^2) $\n",
    "            * $ 为了让\\epsilon^2最小，求导： $\n",
    "            * $ \\frac{\\partial }{\\partial b}{E((a_j-b)^2)}=\\frac{\\partial }{\\partial b}{E(a_j^2-2a_jb+b^2)}=-2E(a_j)-2b=0 $\n",
    "            * $ b=E(a_j) $\n",
    "            * $ \\epsilon^2=\\Sigma_{j=1+m}^nE((a_j-E(a_j))^2)=\\Sigma_{j=1+m}^n\\phi_j^TE((x-E(x))(x-E(x))^T)\\phi_j=\\Sigma_{j=1+m}^n\\phi_j^TC_x\\phi_j $\n",
    "                * $ c_x\\phi_j=\\lambda_j \\phi_j ;\\lambda_j为C_x的特征值，\\phi_j是特征向量 $\n",
    "                * $ \\phi_j^T\\phi_j=1==>\\phi_j^Tc_x\\phi_j=\\lambda_j  $\n",
    "            * $ \\epsilon^2=\\Sigma_{j=1+m}^n\\phi_j^TC_x\\phi_j=\\Sigma_{j=1+m}^n\\lambda_j  $\n",
    "            * 所以，当$ \\lambda_j越小$，误差就越小\n",
    "    * 选择原则，按最小方差原则选择$ E(a_j)=0==>E(x)=0,若不等于0，只能得到次最佳结果 $（标准化后结果更好）\n",
    "    * 选取协方差矩阵C或自相关矩阵R来计算特征值/特征向量\n",
    "        * $ C=E((x-E(x))(x-E(x))^T)=E(xx^T)-2E(x)^2=R-2m^2 $\n",
    "    * 所获取的a是**互不相关**的新特征\n",
    "    * 变换步骤：（x是列向量）\n",
    "        1. 求均值m(整体的均值)（x'=x-m，使得m=0)\n",
    "        2. 求自相关矩阵R\n",
    "        3. 求R的特征值$ \\lambda $\n",
    "        4. 求特征值对应的特征向量：$ \\phi $，单位向量，且正交\n",
    "        5. 取前k个，$ a=\\Phi[:,:m] x'$"
   ]
  },
  {
   "cell_type": "code",
   "execution_count": 48,
   "metadata": {},
   "outputs": [
    {
     "name": "stdout",
     "output_type": "stream",
     "text": [
      "[[0.75 ]\n",
      " [0.25 ]\n",
      " [0.125]]\n",
      "[[ 0.4375   0.0625  -0.15625]\n",
      " [ 0.0625   1.125   -0.5625 ]\n",
      " [-0.15625 -0.5625   0.84375]]\n",
      "[[ 0.6875    0.1875   -0.09375 ]\n",
      " [ 0.1875    1.1875   -0.53125 ]\n",
      " [-0.09375  -0.53125   0.859375]]\n",
      "[[ 1.25   0.375  0.   ]\n",
      " [ 0.375  1.25  -0.5  ]\n",
      " [ 0.    -0.5    0.875]]\n",
      "[[ 1.25   0.375  0.   ]\n",
      " [ 0.375  1.25  -0.5  ]\n",
      " [ 0.    -0.5    0.875]]\n"
     ]
    }
   ],
   "source": [
    "import numpy as np\n",
    "x1=np.array([[0,2,2,1],[0,0,0,2],[0,0,1,0]])\n",
    "x2=np.array([[0,0,0,1],[0,1,-2,1],[1,0,1,-2]])\n",
    "x=np.array([[0,2,2,1,0,0,0,1],[0,0,0,2,0,1,-2,1],[0,0,1,0,1,0,1,-2]])\n",
    "m1=np.mean(x1,axis=1).reshape(3,1)\n",
    "m2=np.mean(x2,axis=1).reshape(3,1)\n",
    "m=(m1+m2)/2\n",
    "print(m)\n",
    "C1=np.matmul((x1-m1),(x1-m1).T)/4\n",
    "C2=np.matmul((x2-m2),(x2-m2).T)/4\n",
    "C=(C1+C2)/2#这个应该不行，类内离散度\n",
    "print(C)\n",
    "C_=np.matmul((x-m),(x-m).T)/8\n",
    "print(C_)\n",
    "\n",
    "#这两种R是一样的，m=0时才用\n",
    "R1=np.matmul(x1,x1.T)/4\n",
    "R2=np.matmul(x2,x2.T)/4\n",
    "R=(R1+R2)/2\n",
    "print(R)\n",
    "R_=np.matmul(x,x.T)/8\n",
    "print(R_)"
   ]
  },
  {
   "cell_type": "code",
   "execution_count": 49,
   "metadata": {},
   "outputs": [
    {
     "name": "stdout",
     "output_type": "stream",
     "text": [
      "C=C1+C2\n",
      "(array([1.5827506 , 0.49608042, 0.32741898]), array([[-0.12662322, -0.73030067,  0.67128793],\n",
      "       [-0.7762265 ,  0.49429774,  0.39133382],\n",
      "       [ 0.61760746,  0.47151953,  0.62946831]]))\n",
      "C_\n",
      "(array([1.625     , 0.64876246, 0.46061254]), array([[ 0.21538745,  0.95853318, -0.18660756],\n",
      "       [ 0.78975397, -0.05858624,  0.61061961],\n",
      "       [-0.57436653,  0.27889386,  0.76962413]]))\n",
      "R\n",
      "(array([1.78643783, 1.125     , 0.46356217]), array([[-0.52255387,  0.80178373, -0.28996605],\n",
      "       [-0.74751377, -0.26726124,  0.60810739],\n",
      "       [ 0.41007392,  0.53452248,  0.73900277]]))\n"
     ]
    }
   ],
   "source": [
    "print('C=C1+C2')\n",
    "lamb,vec=np.linalg.eig(C)\n",
    "print(np.linalg.eig(C))\n",
    "print('C_')\n",
    "lamb_,vec_=np.linalg.eig(C)\n",
    "print(np.linalg.eig(C_))\n",
    "print('R')\n",
    "print(np.linalg.eig(R))"
   ]
  },
  {
   "cell_type": "code",
   "execution_count": 46,
   "metadata": {},
   "outputs": [
    {
     "data": {
      "text/plain": [
       "array([[1.58275060e+00, 0.00000000e+00, 2.22044605e-16],\n",
       "       [5.55111512e-17, 4.96080417e-01, 7.77156117e-16],\n",
       "       [1.94289029e-16, 7.77156117e-16, 3.27418981e-01]])"
      ]
     },
     "execution_count": 46,
     "metadata": {},
     "output_type": "execute_result"
    }
   ],
   "source": [
    "np.matmul(np.matmul(vec.T,C),vec)# vec,一列一个特征向量"
   ]
  },
  {
   "cell_type": "code",
   "execution_count": null,
   "metadata": {},
   "outputs": [],
   "source": [
    "import matplotlib.pyplot as plt\n",
    "plt.scatter(x1[])"
   ]
  },
  {
   "cell_type": "code",
   "execution_count": 58,
   "metadata": {},
   "outputs": [
    {
     "data": {
      "text/plain": [
       "array([-0.29049663, -1.27361479,  0.95499767])"
      ]
     },
     "execution_count": 58,
     "metadata": {},
     "output_type": "execute_result"
    }
   ],
   "source": [
    "np.matmul(C_,vec_[:,0])"
   ]
  },
  {
   "cell_type": "code",
   "execution_count": 65,
   "metadata": {},
   "outputs": [
    {
     "data": {
      "text/plain": [
       "array([[ 0.4375 ,  0.0625 , -0.15625],\n",
       "       [ 0.0625 ,  1.125  , -0.5625 ],\n",
       "       [-0.15625, -0.5625 ,  0.84375]])"
      ]
     },
     "execution_count": 65,
     "metadata": {},
     "output_type": "execute_result"
    }
   ],
   "source": [
    "np.matmul(vec_,np.matmul(np.diag(lamb_),vec_.T))"
   ]
  },
  {
   "cell_type": "code",
   "execution_count": 60,
   "metadata": {},
   "outputs": [
    {
     "data": {
      "text/plain": [
       "array([[ 0.6875  ,  0.1875  , -0.09375 ],\n",
       "       [ 0.1875  ,  1.1875  , -0.53125 ],\n",
       "       [-0.09375 , -0.53125 ,  0.859375]])"
      ]
     },
     "execution_count": 60,
     "metadata": {},
     "output_type": "execute_result"
    }
   ],
   "source": [
    "C_"
   ]
  },
  {
   "cell_type": "code",
   "execution_count": 67,
   "metadata": {},
   "outputs": [
    {
     "name": "stdout",
     "output_type": "stream",
     "text": [
      "[0.         1.34257586 1.97204417 1.45395558]\n"
     ]
    }
   ],
   "source": [
    "x_11=np.matmul(vec_[:,2].T,x1)\n",
    "print(x_11)"
   ]
  },
  {
   "cell_type": "code",
   "execution_count": 68,
   "metadata": {},
   "outputs": [
    {
     "name": "stdout",
     "output_type": "stream",
     "text": [
      "[ 0.62946831  0.39133382 -0.15319933 -0.19631487]\n"
     ]
    }
   ],
   "source": [
    "x_21=np.matmul(vec_[:,2].T,x2)\n",
    "print(x_21)"
   ]
  },
  {
   "cell_type": "code",
   "execution_count": 69,
   "metadata": {},
   "outputs": [
    {
     "name": "stdout",
     "output_type": "stream",
     "text": [
      "[-0.67998294  0.66259292  1.29206123  0.77397263]\n",
      "[-0.05051463 -0.28864912 -0.83318228 -0.87629781]\n"
     ]
    }
   ],
   "source": [
    "x_11=np.matmul(vec_[:,2].T,x1-m)\n",
    "print(x_11)\n",
    "x_21=np.matmul(vec_[:,2].T,x2-m)\n",
    "print(x_21)"
   ]
  },
  {
   "cell_type": "code",
   "execution_count": null,
   "metadata": {},
   "outputs": [],
   "source": []
  }
 ],
 "metadata": {
  "kernelspec": {
   "display_name": "Python 3",
   "language": "python",
   "name": "python3"
  },
  "language_info": {
   "codemirror_mode": {
    "name": "ipython",
    "version": 3
   },
   "file_extension": ".py",
   "mimetype": "text/x-python",
   "name": "python",
   "nbconvert_exporter": "python",
   "pygments_lexer": "ipython3",
   "version": "3.6.6"
  }
 },
 "nbformat": 4,
 "nbformat_minor": 2
}
