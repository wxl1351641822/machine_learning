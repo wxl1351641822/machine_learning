{
 "cells": [
  {
   "cell_type": "code",
   "execution_count": 1,
   "metadata": {},
   "outputs": [],
   "source": [
    "import torch\n",
    "import torch.nn.functional as F\n",
    "import matplotlib.pyplot as plt\n",
    "%matplotlib inline"
   ]
  },
  {
   "cell_type": "code",
   "execution_count": 2,
   "metadata": {},
   "outputs": [
    {
     "name": "stdout",
     "output_type": "stream",
     "text": [
      "<torch._C.Generator object at 0x7f0200f006f0>\n",
      "tensor([0.7576, 0.2793])\n"
     ]
    }
   ],
   "source": [
    "print(torch.manual_seed(1))    # reproducible这个参数是做什么的\n",
    "print(torch.rand(2))#这里的参数是产生随机数的数量"
   ]
  },
  {
   "cell_type": "code",
   "execution_count": 3,
   "metadata": {},
   "outputs": [
    {
     "name": "stdout",
     "output_type": "stream",
     "text": [
      "tensor([[-1.0000],\n",
      "        [-0.9798],\n",
      "        [-0.9596],\n",
      "        [-0.9394],\n",
      "        [-0.9192],\n",
      "        [-0.8990],\n",
      "        [-0.8788],\n",
      "        [-0.8586],\n",
      "        [-0.8384],\n",
      "        [-0.8182],\n",
      "        [-0.7980],\n",
      "        [-0.7778],\n",
      "        [-0.7576],\n",
      "        [-0.7374],\n",
      "        [-0.7172],\n",
      "        [-0.6970],\n",
      "        [-0.6768],\n",
      "        [-0.6566],\n",
      "        [-0.6364],\n",
      "        [-0.6162],\n",
      "        [-0.5960],\n",
      "        [-0.5758],\n",
      "        [-0.5556],\n",
      "        [-0.5354],\n",
      "        [-0.5152],\n",
      "        [-0.4949],\n",
      "        [-0.4747],\n",
      "        [-0.4545],\n",
      "        [-0.4343],\n",
      "        [-0.4141],\n",
      "        [-0.3939],\n",
      "        [-0.3737],\n",
      "        [-0.3535],\n",
      "        [-0.3333],\n",
      "        [-0.3131],\n",
      "        [-0.2929],\n",
      "        [-0.2727],\n",
      "        [-0.2525],\n",
      "        [-0.2323],\n",
      "        [-0.2121],\n",
      "        [-0.1919],\n",
      "        [-0.1717],\n",
      "        [-0.1515],\n",
      "        [-0.1313],\n",
      "        [-0.1111],\n",
      "        [-0.0909],\n",
      "        [-0.0707],\n",
      "        [-0.0505],\n",
      "        [-0.0303],\n",
      "        [-0.0101],\n",
      "        [ 0.0101],\n",
      "        [ 0.0303],\n",
      "        [ 0.0505],\n",
      "        [ 0.0707],\n",
      "        [ 0.0909],\n",
      "        [ 0.1111],\n",
      "        [ 0.1313],\n",
      "        [ 0.1515],\n",
      "        [ 0.1717],\n",
      "        [ 0.1919],\n",
      "        [ 0.2121],\n",
      "        [ 0.2323],\n",
      "        [ 0.2525],\n",
      "        [ 0.2727],\n",
      "        [ 0.2929],\n",
      "        [ 0.3131],\n",
      "        [ 0.3333],\n",
      "        [ 0.3535],\n",
      "        [ 0.3737],\n",
      "        [ 0.3939],\n",
      "        [ 0.4141],\n",
      "        [ 0.4343],\n",
      "        [ 0.4545],\n",
      "        [ 0.4747],\n",
      "        [ 0.4949],\n",
      "        [ 0.5152],\n",
      "        [ 0.5354],\n",
      "        [ 0.5556],\n",
      "        [ 0.5758],\n",
      "        [ 0.5960],\n",
      "        [ 0.6162],\n",
      "        [ 0.6364],\n",
      "        [ 0.6566],\n",
      "        [ 0.6768],\n",
      "        [ 0.6970],\n",
      "        [ 0.7172],\n",
      "        [ 0.7374],\n",
      "        [ 0.7576],\n",
      "        [ 0.7778],\n",
      "        [ 0.7980],\n",
      "        [ 0.8182],\n",
      "        [ 0.8384],\n",
      "        [ 0.8586],\n",
      "        [ 0.8788],\n",
      "        [ 0.8990],\n",
      "        [ 0.9192],\n",
      "        [ 0.9394],\n",
      "        [ 0.9596],\n",
      "        [ 0.9798],\n",
      "        [ 1.0000]])\n"
     ]
    },
    {
     "data": {
      "image/png": "[encoded data removed]",
      "text/plain": [
       "<Figure size 432x288 with 1 Axes>"
      ]
     },
     "metadata": {
      "needs_background": "light"
     },
     "output_type": "display_data"
    }
   ],
   "source": [
    "x = torch.unsqueeze(torch.linspace(-1, 1, 100), dim=1)  # x data (tensor), shape=(100, 1)#-1到范围内产生100个数\n",
    "y = x.pow(2) + 0.2*torch.rand(x.size())                 # noisy y data (tensor), shape=(100, 1)\n",
    "print(x)\n",
    "plt.scatter(x.data.numpy(), y.data.numpy())\n",
    "plt.show()"
   ]
  },
  {
   "cell_type": "code",
   "execution_count": 19,
   "metadata": {},
   "outputs": [],
   "source": [
    "\n",
    "def relu(x):\n",
    "    if(x.data>0):\n",
    "        return x\n",
    "    else:\n",
    "        return 0\n",
    "\n",
    "def Net(x,W1,W2,b1,b2):\n",
    "    hidden = torch.mm(x, W1) + b1  # 100*10+10，每行都加b1\n",
    "    hidden = F.relu(hidden)\n",
    "    prediction = torch.mm(hidden, W2) + b2\n",
    "    return prediction,hidden\n",
    "\n",
    "\n",
    "def Loss(prediction, y):\n",
    "    return torch.sqrt(torch.mul(prediction - y, prediction - y).sum(0)) / len(x) / 2\n",
    "\n",
    "\n",
    "def SGD(prediction, y,hidden,LR,W1,W2,b1,b2):\n",
    "    d = -(prediction - y) / len(x)\n",
    "    dW2 = torch.sum(d * hidden,dim=0)\n",
    "    #     print(d*hidden)\n",
    "    db2 = torch.sum(d,dim=0)\n",
    "    mul = d * torch.transpose(W2, 1, 0)\n",
    "    dW1 = torch.sum(x * mul,dim=0)\n",
    "    db1 = torch.sum(mul,dim=0)\n",
    "    W1=W1+dW1*LR\n",
    "    W2=W2+dW2*LR\n",
    "    b1=b1+db1*LR\n",
    "    b2=b2+db2*LR\n",
    "    \n",
    "    \n",
    "if __name__=='__main__':\n",
    "    n_feature=1\n",
    "    n_hidden=10\n",
    "    n_output=1\n",
    "    LR=0.1\n",
    "    W1=torch.rand(n_feature,n_hidden)\n",
    "    b1=torch.rand(n_hidden)\n",
    "    W2=torch.rand(n_hidden,n_output)\n",
    "    b2=torch.rand(n_output)\n",
    "    prediction,hidden = Net(x,W1,W2,b1,b2)\n",
    "    loss = Loss(prediction, y)\n",
    "    SGD(prediction, y,hidden,LR,W1,W2,b1,b2)"
   ]
  },
  {
   "cell_type": "code",
   "execution_count": null,
   "metadata": {},
   "outputs": [],
   "source": [
    "print(x.size(),W1.size())\n",
    "print(x)\n",
    "print(W1)\n",
    "print(torch.mul(x,W1))"
   ]
  },
  {
   "cell_type": "code",
   "execution_count": null,
   "metadata": {},
   "outputs": [],
   "source": []
  }
 ],
 "metadata": {
  "kernelspec": {
   "display_name": "Python 3",
   "language": "python",
   "name": "python3"
  },
  "language_info": {
   "codemirror_mode": {
    "name": "ipython",
    "version": 3
   },
   "file_extension": ".py",
   "mimetype": "text/x-python",
   "name": "python",
   "nbconvert_exporter": "python",
   "pygments_lexer": "ipython3",
   "version": "3.6.6"
  }
 },
 "nbformat": 4,
 "nbformat_minor": 2
}
